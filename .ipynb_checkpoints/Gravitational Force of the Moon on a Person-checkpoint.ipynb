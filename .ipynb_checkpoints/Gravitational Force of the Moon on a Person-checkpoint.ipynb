{
 "cells": [
  {
   "cell_type": "markdown",
   "metadata": {},
   "source": [
    "### Gravitational Force of the Moon on a Person"
   ]
  },
  {
   "cell_type": "markdown",
   "metadata": {},
   "source": [
    "The gravitational pull of the moon on Earth's oceans create the tides. The moon pulls the water on the near side of the Earth toward it, creating a bulge. The Earth is also pulled toward the moon, leaving another bulge on the far side. This creates two high tides on either side of the Earth. As the Earht rotates through these bulges, the land above the water exeperiences two high tides and two low tides every day."
   ]
  },
  {
   "cell_type": "markdown",
   "metadata": {},
   "source": [
    "<div>\n",
    "<img src=\"images/tides.jpg\" width=\"500\"/>\n",
    "</div>\n",
    "https://theconversation.com/curious-kids-how-does-the-moon-being-so-far-away-affect-the-tides-on-earth-105371"
   ]
  },
  {
   "cell_type": "markdown",
   "metadata": {},
   "source": [
    "The questions at hand is whether the water in the human body experiences the same gravitational tug as the oceans, giving us reason to believe that the moon could have a gravitational effect on the human body. To answer this question, let's first remind ourselves of Newton's Law of Gravitational Attraction:\n",
    "$\\large F = \\frac{GM_1M_2}{d^2}$\n",
    "The gravitational force between two masses is found by multiplying their masses, dividing by the square of the distance between them, and multiplying again by the gravitational constant $G$. Let's calculate the amount of force between the moon and the ocean's of the earth. As a point of comparison, we can compare that to the weight of the Empire State Building, a fairly large skyscrapper in New York City."
   ]
  },
  {
   "cell_type": "code",
   "execution_count": 1,
   "metadata": {},
   "outputs": [
    {
     "name": "stdout",
     "output_type": "stream",
     "text": [
      "Force of the moon on the oceans: 4.4e+14 Newtons\n",
      "Gravitational weight of the Empire State Building: 3.2e+09 Newtons\n",
      "\n",
      "The force on the oceans from the moon is equal to the weight of 135421 Empire State Buildings!\n"
     ]
    }
   ],
   "source": [
    "import astropy.units as u\n",
    "import astropy.constants as c\n",
    "\n",
    "# Force of the moon on the oceans\n",
    "\n",
    "G = c.G\n",
    "M_moon = c.M_earth * 0.012  # https://www.space.com/18135-how-big-is-the-moon.html\n",
    "M_oceans = c.M_earth / 4400.  # https://phys.org/news/2014-12-percent-earth.html\n",
    "d_moon = 3.844e9 * u.m  # https://spaceplace.nasa.gov/moon-distance/en/\n",
    "\n",
    "F_moon_on_oceans = G * M_moon * M_oceans / d_moon**2.\n",
    "print('Force of the moon on the oceans: %.1e Newtons' % F_moon_on_oceans.value)\n",
    "\n",
    "\n",
    "# Weight of the Empire State Building\n",
    "\n",
    "M_esb = 365e3 * 907.185 * u.kg  # tons to kilograms\n",
    "M_earth = c.M_earth\n",
    "R_earth = c.R_earth\n",
    "\n",
    "F_earth_on_esb = G * M_esb * M_earth / R_earth**2.\n",
    "print('Gravitational weight of the Empire State Building: %.1e Newtons\\n' % F_earth_on_esb.value)\n",
    "\n",
    "F_ratio = F_moon_on_oceans / F_earth_on_esb\n",
    "print('The force on the oceans from the moon is equal to the weight of %i Empire State Buildings!' % F_ratio)"
   ]
  },
  {
   "cell_type": "markdown",
   "metadata": {},
   "source": [
    "That is a lot of force! So how does this compare to the force of the moon on the human body? The average person on Earth has a mass of 62.0 kg (https://en.wikipedia.org/wiki/Human_body_weight). Let's calculate how much force the moon exerts on each person's mass, and compare that to the force of their weight."
   ]
  },
  {
   "cell_type": "code",
   "execution_count": 2,
   "metadata": {},
   "outputs": [
    {
     "name": "stdout",
     "output_type": "stream",
     "text": [
      "Force of the moon on each person: 0.000020 Newtons\n",
      "Force of the earth on each person, or their weight: 607.5 Newtons\n",
      "Additional percentage of weight: 0.0000033%\n"
     ]
    }
   ],
   "source": [
    "# Force of the moon on a person\n",
    "M_person = 62.0 * u.kg  \n",
    "F_moon_on_person = G * M_moon * M_person / d_moon**2.\n",
    "print('Force of the moon on each person: %.6f Newtons' % F_moon_on_person.value)\n",
    "\n",
    "# Force of the Earth on a person, or their weight force\n",
    "F_earth_on_person = G * M_earth * M_person / R_earth**2.\n",
    "print('Force of the earth on each person, or their weight: %.1f Newtons' % F_earth_on_person.value)\n",
    "\n",
    "# Fractional contribution of the moon\n",
    "additional_force_percentage = 100 * (F_moon_on_person) / F_earth_on_person\n",
    "print('Additional percentage of weight: %.7f%%' % additional_force_percentage)"
   ]
  },
  {
   "cell_type": "markdown",
   "metadata": {},
   "source": [
    "The moon's presence adds (or subtracts) an additional 0.0000033% to your body weight, or 0.0000049 pounds. This is all but certainly too small to impose any measurable effect on the human body's biological or chemical processes. One should also note that inside of the body, the small mass of atoms, molecules, and even cells makes them far less sensitive to the gravitational force than they are to the electromagnetic force. This manifests as the attraction or repelling of charged surfaces, and the bonds of polar atoms, among other phenomenon.\n",
    "\n",
    "As a fun final note, there are approximately 7.8 billion people on Earth. How does the force from the moon of eveyone compare to the weight of a semi-trailer truck?"
   ]
  },
  {
   "cell_type": "code",
   "execution_count": 3,
   "metadata": {},
   "outputs": [
    {
     "name": "stdout",
     "output_type": "stream",
     "text": [
      "Force of the moon on all people:: 156544.8 Newtons\n",
      "Gravitational weight of a car: 355558.0 Newtons\n",
      "\n",
      "The force on all people from the moon is equal to the weight of 0.4 semi-trailer trucks!\n"
     ]
    }
   ],
   "source": [
    "# Force of the moon on all people\n",
    "N_people = 7.8e9\n",
    "F_moon_on_all_people = F_moon_on_person * N_people\n",
    "print('Force of the moon on all people:: %.1f Newtons' % F_moon_on_all_people.value)\n",
    "\n",
    "# Weight of a semi-trailer truck\n",
    "M_car = 80000 * 0.453592 * u.kg  # pounds to kilograms\n",
    "F_earth_on_car = G * M_car * M_earth / R_earth**2.\n",
    "print('Gravitational weight of a car: %.1f Newtons\\n' % F_earth_on_car.value)\n",
    "\n",
    "F_ratio = F_moon_on_all_people / F_earth_on_car\n",
    "print('The force on all people from the moon is equal to the weight of %.1f semi-trailer trucks!' % F_ratio)"
   ]
  },
  {
   "cell_type": "markdown",
   "metadata": {},
   "source": [
    "It doesn't even equal the weight of a single semi-trailer truck. So while Frank Sinatra wanted someone to \"fly me to the moon\", rest assured that it won't be taking you away anytime soon!"
   ]
  },
  {
   "cell_type": "code",
   "execution_count": null,
   "metadata": {},
   "outputs": [],
   "source": []
  }
 ],
 "metadata": {
  "kernelspec": {
   "display_name": "Python 3",
   "language": "python",
   "name": "python3"
  },
  "language_info": {
   "codemirror_mode": {
    "name": "ipython",
    "version": 3
   },
   "file_extension": ".py",
   "mimetype": "text/x-python",
   "name": "python",
   "nbconvert_exporter": "python",
   "pygments_lexer": "ipython3",
   "version": "3.7.4"
  }
 },
 "nbformat": 4,
 "nbformat_minor": 4
}
